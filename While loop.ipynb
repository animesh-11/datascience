{
 "cells": [
  {
   "cell_type": "code",
   "execution_count": 5,
   "metadata": {},
   "outputs": [
    {
     "name": "stdout",
     "output_type": "stream",
     "text": [
      "condition is not valid\n"
     ]
    }
   ],
   "source": [
    "a = 10\n",
    "b = 20\n",
    "\n",
    "if a == 10 and b > 20 :\n",
    "    print(\"this is valid statement\")\n",
    "elif a == 10 and b < 20 :\n",
    "    print(\"condition is valid inside elif\")\n",
    "else :\n",
    "    print(\"condition is not valid\")"
   ]
  },
  {
   "cell_type": "code",
   "execution_count": 2,
   "metadata": {},
   "outputs": [
    {
     "data": {
      "text/plain": [
       "True"
      ]
     },
     "execution_count": 2,
     "metadata": {},
     "output_type": "execute_result"
    }
   ],
   "source": [
    "a == 10 and b == 20"
   ]
  },
  {
   "cell_type": "code",
   "execution_count": 9,
   "metadata": {},
   "outputs": [
    {
     "name": "stdout",
     "output_type": "stream",
     "text": [
      "Enter your first name : Ani\n",
      "Enter your last name : Kum\n",
      "The input name is incorrect\n"
     ]
    }
   ],
   "source": [
    "\n",
    "a1 = input(\"Enter your first name : \")\n",
    "b1 = input(\"Enter your last name : \")\n",
    "\n",
    "if a1 == \"Animesh\" and b1 == \"Kumar\" :\n",
    "    print(\"The input name is correct\")\n",
    "elif a1 == \"Animesh\" and b1 != \"Kumar\":\n",
    "    print(\"Only first name is correct\")\n",
    "elif a1 != \"Animesh\" and b1 == \"Kumar\":\n",
    "    print(\"Only last name is correct\")\n",
    "else :\n",
    "    print(\"The input name is incorrect\")"
   ]
  },
  {
   "cell_type": "code",
   "execution_count": 5,
   "metadata": {},
   "outputs": [
    {
     "name": "stdout",
     "output_type": "stream",
     "text": [
      "this is my speed\n",
      "this is my speed\n",
      "this is my speed\n",
      "this is my speed\n",
      "this is my speed\n",
      "this is my speed\n",
      "this is my speed\n",
      "this is my speed\n",
      "this is my speed\n"
     ]
    }
   ],
   "source": [
    "initial_speed = 0\n",
    "final_speed = 100\n",
    "count = 1\n",
    "while initial_speed < final_speed:\n",
    "    print(\"this is my speed\")\n",
    "    count=count+1\n",
    "    if count == 10:\n",
    "        break    "
   ]
  },
  {
   "cell_type": "code",
   "execution_count": 6,
   "metadata": {},
   "outputs": [
    {
     "name": "stdout",
     "output_type": "stream",
     "text": [
      "1\n",
      "2\n",
      "3\n",
      "4\n"
     ]
    }
   ],
   "source": [
    "i= 1\n",
    "j= 5\n",
    "while i < j:\n",
    "    print(i)\n",
    "    i=i+1"
   ]
  },
  {
   "cell_type": "code",
   "execution_count": null,
   "metadata": {},
   "outputs": [],
   "source": []
  }
 ],
 "metadata": {
  "kernelspec": {
   "display_name": "Python 3",
   "language": "python",
   "name": "python3"
  },
  "language_info": {
   "codemirror_mode": {
    "name": "ipython",
    "version": 3
   },
   "file_extension": ".py",
   "mimetype": "text/x-python",
   "name": "python",
   "nbconvert_exporter": "python",
   "pygments_lexer": "ipython3",
   "version": "3.8.3"
  }
 },
 "nbformat": 4,
 "nbformat_minor": 4
}
